{
 "cells": [
  {
   "cell_type": "code",
   "execution_count": 1,
   "id": "09a2f307-6fea-4c7e-84ea-f8f96661a7c9",
   "metadata": {
    "tags": []
   },
   "outputs": [
    {
     "name": "stdout",
     "output_type": "stream",
     "text": [
      "Start\n",
      "Connected by ('127.0.0.1', 56429)\n",
      "Server closed\n"
     ]
    }
   ],
   "source": [
    "import socket\n",
    "\n",
    "# Define server address and port\n",
    "HOST = \"localhost\"  # Standard loopback interface address (localhost)\n",
    "PORT = 65432        # Port to listen on (non-privileged ports are > 1023)\n",
    "\n",
    "with socket.socket(socket.AF_INET, socket.SOCK_STREAM) as s:\n",
    "    print(\"Start\")\n",
    "    s.bind((HOST, PORT))\n",
    "    s.listen()\n",
    "    conn, addr = s.accept()\n",
    "    with conn:\n",
    "        print(f\"Connected by {addr}\")\n",
    "        while True:\n",
    "            data = conn.recv(1024)\n",
    "            if not data:\n",
    "                break\n",
    "            conn.sendall(data)  # Echo back the received data\n",
    "\n",
    "print(\"Server closed\")"
   ]
  },
  {
   "cell_type": "code",
   "execution_count": null,
   "id": "7383d14e-d041-4f57-b1fc-6e7ed0385568",
   "metadata": {},
   "outputs": [],
   "source": []
  }
 ],
 "metadata": {
  "kernelspec": {
   "display_name": "Python 3 (ipykernel)",
   "language": "python",
   "name": "python3"
  },
  "language_info": {
   "codemirror_mode": {
    "name": "ipython",
    "version": 3
   },
   "file_extension": ".py",
   "mimetype": "text/x-python",
   "name": "python",
   "nbconvert_exporter": "python",
   "pygments_lexer": "ipython3",
   "version": "3.11.7"
  }
 },
 "nbformat": 4,
 "nbformat_minor": 5
}
