{
 "cells": [
  {
   "cell_type": "code",
   "execution_count": 2,
   "id": "848f6810-88be-4d59-87b5-cca93ee72733",
   "metadata": {
    "editable": true,
    "slideshow": {
     "slide_type": ""
    },
    "tags": []
   },
   "outputs": [
    {
     "name": "stdout",
     "output_type": "stream",
     "text": [
      "Received from server: Hello, server!\n"
     ]
    }
   ],
   "source": [
    "import socket\n",
    "\n",
    "# Define server address and port\n",
    "HOST = \"localhost\"  # The server's hostname or IP address\n",
    "PORT = 65432        # The port used by the server\n",
    "\n",
    "with socket.socket(socket.AF_INET, socket.SOCK_STREAM) as s:\n",
    "    s.connect((HOST, PORT))\n",
    "    message = \"Hello, server!\".encode()\n",
    "    s.sendall(message)\n",
    "    data = s.recv(1024)\n",
    "\n",
    "print(f\"Received from server: {data.decode()}\")"
   ]
  },
  {
   "cell_type": "code",
   "execution_count": null,
   "id": "22a13a43-db0e-4b26-becc-ebec7acb0e34",
   "metadata": {},
   "outputs": [],
   "source": []
  }
 ],
 "metadata": {
  "kernelspec": {
   "display_name": "Python 3 (ipykernel)",
   "language": "python",
   "name": "python3"
  },
  "language_info": {
   "codemirror_mode": {
    "name": "ipython",
    "version": 3
   },
   "file_extension": ".py",
   "mimetype": "text/x-python",
   "name": "python",
   "nbconvert_exporter": "python",
   "pygments_lexer": "ipython3",
   "version": "3.11.7"
  }
 },
 "nbformat": 4,
 "nbformat_minor": 5
}
